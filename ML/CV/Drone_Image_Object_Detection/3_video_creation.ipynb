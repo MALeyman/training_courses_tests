{
 "cells": [
  {
   "cell_type": "markdown",
   "id": "cb781b7a",
   "metadata": {},
   "source": [
    "Автор: Лейман М.А.   \n",
    "Дата создания: 13.06.2025  "
   ]
  },
  {
   "cell_type": "markdown",
   "id": "426b01d7",
   "metadata": {},
   "source": [
    "# Создание видеоролика для  применения с обученной моделью "
   ]
  },
  {
   "cell_type": "code",
   "execution_count": 1,
   "id": "0166eaa1",
   "metadata": {},
   "outputs": [],
   "source": [
    "from utils.video_creation import creation_video\n",
    "\n",
    "import os"
   ]
  },
  {
   "cell_type": "code",
   "execution_count": 2,
   "id": "c65c3703",
   "metadata": {},
   "outputs": [],
   "source": [
    "# Получаем текущую рабочую папку  \n",
    "current_directory = os.getcwd()  \n",
    "path_dataset = os.path.join(current_directory, \"dataset/TEST/TEST/\")\n",
    "image_original = 'P2673.jpg'   \n",
    "image_path = os.path.join(path_dataset, image_original) "
   ]
  },
  {
   "cell_type": "code",
   "execution_count": null,
   "id": "bbccded6",
   "metadata": {},
   "outputs": [],
   "source": [
    "\n",
    "\n",
    "creation_video(image_path, num_vid=0, win_size=1200, num_frames = 700, step = 5, fps = 30)"
   ]
  }
 ],
 "metadata": {
  "kernelspec": {
   "display_name": "env1",
   "language": "python",
   "name": "python3"
  },
  "language_info": {
   "codemirror_mode": {
    "name": "ipython",
    "version": 3
   },
   "file_extension": ".py",
   "mimetype": "text/x-python",
   "name": "python",
   "nbconvert_exporter": "python",
   "pygments_lexer": "ipython3",
   "version": "3.12.3"
  }
 },
 "nbformat": 4,
 "nbformat_minor": 5
}
